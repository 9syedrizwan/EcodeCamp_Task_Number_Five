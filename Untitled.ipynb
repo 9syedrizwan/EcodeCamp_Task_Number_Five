{
 "cells": [
  {
   "cell_type": "code",
   "execution_count": 1,
   "id": "9e2e4ebe-fa11-4871-ba6e-a23f132746f8",
   "metadata": {},
   "outputs": [],
   "source": [
    "import pandas as pd\n",
    "import re\n",
    "\n",
    "df = pd.read_csv(r\"C:\\Users\\USER\\customer_satisfaction\\interstellar_travel.csv\")"
   ]
  },
  {
   "cell_type": "code",
   "execution_count": 2,
   "id": "d67cf2af-963f-4ad1-9b65-168036a83e7d",
   "metadata": {},
   "outputs": [],
   "source": [
    "df.drop_duplicates(inplace=True)\n",
    "df.ffill(inplace=True) \n",
    "\n",
    "def clean_text(text):\n",
    "    text = text.lower()  # Convert to lowercase\n",
    "    text = re.sub(r'\\d+', '', text)  # Remove numbers\n",
    "    text = re.sub(r'\\W+', ' ', text)  # Remove special characters\n",
    "    return text"
   ]
  },
  {
   "cell_type": "code",
   "execution_count": 3,
   "id": "6d1b2bd1-bdd6-4908-84f7-6b740160c50a",
   "metadata": {},
   "outputs": [],
   "source": [
    "df['Special Requests'] = df['Special Requests'].apply(clean_text)\n",
    "\n",
    "df['Booking Date'] = pd.to_datetime(df['Booking Date'])\n",
    "df['Departure Date'] = pd.to_datetime(df['Departure Date'])\n",
    "\n",
    "df['Age Group'] = pd.cut(df['Age'], bins=[0, 20, 30, 40, 50, 60, 70, 80, 90, 100], right=False)\n"
   ]
  },
  {
   "cell_type": "code",
   "execution_count": 4,
   "id": "c7e0a8df-84f0-4738-be8b-e69c569f17b0",
   "metadata": {},
   "outputs": [],
   "source": [
    "age_satisfaction = df.groupby('Age Group', observed=False)['Customer Satisfaction Score'].mean().reset_index()\n",
    "\n",
    "class_satisfaction = df.groupby('Travel Class', observed=False)['Customer Satisfaction Score'].mean().reset_index()\n",
    "\n",
    "price_satisfaction = df[['Price (Galactic Credits)', 'Customer Satisfaction Score']].groupby('Price (Galactic Credits)').mean().reset_index()"
   ]
  },
  {
   "cell_type": "code",
   "execution_count": 5,
   "id": "c36bef74-4f13-4214-8115-732f69540678",
   "metadata": {},
   "outputs": [
    {
     "name": "stdout",
     "output_type": "stream",
     "text": [
      "Data analysis complete. Results saved to CSV files.\n"
     ]
    }
   ],
   "source": [
    "df.to_csv('customer_satisfaction_analysis.csv', index=False)\n",
    "\n",
    "print(\"Data analysis complete. Results saved to CSV files.\")"
   ]
  },
  {
   "cell_type": "code",
   "execution_count": null,
   "id": "def564eb-a6ed-482f-b5d5-686153fbff9e",
   "metadata": {},
   "outputs": [],
   "source": []
  }
 ],
 "metadata": {
  "kernelspec": {
   "display_name": "Python 3 (ipykernel)",
   "language": "python",
   "name": "python3"
  },
  "language_info": {
   "codemirror_mode": {
    "name": "ipython",
    "version": 3
   },
   "file_extension": ".py",
   "mimetype": "text/x-python",
   "name": "python",
   "nbconvert_exporter": "python",
   "pygments_lexer": "ipython3",
   "version": "3.12.4"
  }
 },
 "nbformat": 4,
 "nbformat_minor": 5
}
